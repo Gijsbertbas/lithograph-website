{
 "cells": [
  {
   "cell_type": "code",
   "execution_count": 1,
   "metadata": {},
   "outputs": [],
   "source": [
    "import pandas as pd"
   ]
  },
  {
   "cell_type": "code",
   "execution_count": 2,
   "metadata": {},
   "outputs": [],
   "source": [
    "dff = pd.read_csv(\"lithograph/data/well_logs_df.csv\")"
   ]
  },
  {
   "cell_type": "code",
   "execution_count": null,
   "metadata": {},
   "outputs": [],
   "source": [
    "dff.head()"
   ]
  },
  {
   "cell_type": "code",
   "execution_count": 3,
   "metadata": {},
   "outputs": [],
   "source": [
    "import matplotlib.pyplot as plt"
   ]
  },
  {
   "cell_type": "code",
   "execution_count": 4,
   "metadata": {},
   "outputs": [],
   "source": [
    "df = dff[dff['ID']==\"Pharo\"]\n"
   ]
  },
  {
   "cell_type": "code",
   "execution_count": null,
   "metadata": {},
   "outputs": [],
   "source": [
    "len(df['DEPT'])"
   ]
  },
  {
   "cell_type": "code",
   "execution_count": null,
   "metadata": {},
   "outputs": [],
   "source": [
    "dff.columns"
   ]
  },
  {
   "cell_type": "code",
   "execution_count": null,
   "metadata": {},
   "outputs": [],
   "source": [
    "df.head()\n"
   ]
  },
  {
   "cell_type": "code",
   "execution_count": 5,
   "metadata": {},
   "outputs": [],
   "source": [
    "from bokeh.plotting import figure, output_file, show\n",
    "import bokeh.plotting as bk\n",
    "from bokeh.layouts import gridplot\n",
    "from bokeh.plotting import figure, show, output_file\n",
    "from bokeh.models import Range1d\n",
    "from bokeh.io import show\n",
    "from bokeh.models import LogColorMapper\n",
    "from bokeh.palettes import Viridis6 as palette\n",
    "from bokeh.plotting import figure\n",
    "from bokeh.layouts import row\n",
    "from bokeh.models import LinearAxis\n"
   ]
  },
  {
   "cell_type": "code",
   "execution_count": null,
   "metadata": {},
   "outputs": [],
   "source": []
  },
  {
   "cell_type": "code",
   "execution_count": null,
   "metadata": {},
   "outputs": [],
   "source": []
  },
  {
   "cell_type": "code",
   "execution_count": 6,
   "metadata": {},
   "outputs": [],
   "source": [
    "#good plotting of logs\n",
    "x = df['GR']\n",
    "y = df['DEPT']\n",
    "x3 = df['NPHI']\n",
    "\n",
    "\n",
    "# output to static HTML file\n",
    "output_file(\"lines3gr.html\")\n",
    "\n",
    "# create a new plot with a title and axis labels\n",
    "p = figure(x_axis_label='GR', y_axis_label='depth(m)', y_range=(y.max(),y.min()), tools=\"pan, box_zoom,ywheel_zoom,hover,reset\", tooltips=[(\"GR\", \"@x\"), (\"depth\", \"@y\")], plot_width=300, plot_height = 800)\n",
    "\n",
    "\n",
    "# add a line renderer with legend and line thickness\n",
    "p.line(x, y, legend=\"GR (API)\", line_width=0.5, color='green')\n",
    "\n",
    "#new plot\n",
    "x2 = df['RHOB']\n",
    "p2 = figure(x_axis_label='density (kg/cc)', y_axis_label='depth (m)', y_range=p.y_range, tools=\"pan,box_zoom,ywheel_zoom,hover,reset\", tooltips=[(\"RHOB\", \"@x\"), (\"depth\", \"@y\")], plot_width=300, plot_height = 800)\n",
    "#p2.extra_x_ranges['foo'] = Range1d(0, 5)\n",
    "#p2.add_layout(LinearAxis(x_range_name=\"foo\"))\n",
    "\n",
    "#p2.extra_y_ranges = {\"NumStations\": Range1d(start=0, end=35)}\n",
    "#p2.add_layout(LinearAxis(y_range_name=\"NumStations\"), 'right')\n",
    "\n",
    "# add a line renderer with legend and line thickness\n",
    "p2.line(x2, y, legend=\"RHOB\", line_width=0.5, color='blue')#, x_range_name=\"foo\")\n",
    "\n",
    "\n",
    "\n",
    "#plot3 NPHI\n",
    "p3 = figure(x_axis_label='neutron porosity', y_axis_label='depth (m)', y_range=p.y_range, x_range=((0,1)), tools=\"pan,box_zoom,ywheel_zoom,hover,reset\", tooltips=[(\"NPHI\", \"@x\"), (\"depth\", \"@y\")], plot_width=300, plot_height = 800)\n",
    "p3.line(x3, y, legend=\"NPHI\",line_width=0.5, color='red')\n",
    "\n",
    "\n",
    "s = gridplot([[p,p2,p3]])\n",
    "\n",
    "# show the results\n",
    "#show(s)"
   ]
  },
  {
   "cell_type": "code",
   "execution_count": 7,
   "metadata": {},
   "outputs": [],
   "source": [
    "import numpy as np"
   ]
  },
  {
   "cell_type": "code",
   "execution_count": null,
   "metadata": {},
   "outputs": [],
   "source": []
  },
  {
   "cell_type": "code",
   "execution_count": null,
   "metadata": {},
   "outputs": [],
   "source": []
  },
  {
   "cell_type": "code",
   "execution_count": null,
   "metadata": {},
   "outputs": [],
   "source": []
  },
  {
   "cell_type": "markdown",
   "metadata": {},
   "source": [
    "len(values)"
   ]
  },
  {
   "cell_type": "code",
   "execution_count": 8,
   "metadata": {},
   "outputs": [],
   "source": [
    "a = np.random.randint(1,9,len(df['DEPT']))"
   ]
  },
  {
   "cell_type": "code",
   "execution_count": null,
   "metadata": {},
   "outputs": [],
   "source": [
    "len(a)"
   ]
  },
  {
   "cell_type": "code",
   "execution_count": 9,
   "metadata": {},
   "outputs": [
    {
     "data": {
      "text/plain": [
       "20.116699200000767"
      ]
     },
     "execution_count": 9,
     "metadata": {},
     "output_type": "execute_result"
    }
   ],
   "source": [
    "d=np.array(df['DEPT'])\n",
    "dd = list(d)\n",
    "dd[132]-dd[0]"
   ]
  },
  {
   "cell_type": "code",
   "execution_count": 10,
   "metadata": {},
   "outputs": [],
   "source": [
    "import numpy as np\n",
    "from bokeh.models import ColumnDataSource, Plot, LinearAxis, Grid\n",
    "from bokeh.models.glyphs import Patches\n",
    "from bokeh.io import curdoc, show\n",
    "from collections import Counter\n",
    "from scipy import stats\n",
    "\n",
    "#input data\n",
    "b=list(a[0:-1])\n",
    "#values = b\n",
    "d=np.array(df['DEPT'])\n",
    "dd = list(d)\n",
    "#depths = dd\n",
    "ddd = []\n",
    "c=[]\n",
    "\n",
    "\n",
    "#averaging\n",
    "sam = 67\n",
    "\n",
    "for i in range(round(len(a)/sam)):\n",
    "    bb = b[i*sam:(i*sam+sam)]\n",
    "    c.append(list(stats.mode(bb)[0])[0])\n",
    "    ddd.append(dd[i*sam])\n",
    "\n",
    "d2 = [round(d,2) for d in ddd]\n",
    "\n"
   ]
  },
  {
   "cell_type": "code",
   "execution_count": null,
   "metadata": {},
   "outputs": [],
   "source": [
    "len(c)"
   ]
  },
  {
   "cell_type": "code",
   "execution_count": 11,
   "metadata": {},
   "outputs": [
    {
     "data": {
      "text/html": [
       "<div style=\"display: table;\"><div style=\"display: table-row;\"><div style=\"display: table-cell;\"><b title=\"bokeh.models.renderers.GlyphRenderer\">GlyphRenderer</b>(</div><div style=\"display: table-cell;\">id&nbsp;=&nbsp;'1239', <span id=\"1242\" style=\"cursor: pointer;\">&hellip;)</span></div></div><div class=\"1241\" style=\"display: none;\"><div style=\"display: table-cell;\"></div><div style=\"display: table-cell;\">data_source&nbsp;=&nbsp;ColumnDataSource(id='1179', ...),</div></div><div class=\"1241\" style=\"display: none;\"><div style=\"display: table-cell;\"></div><div style=\"display: table-cell;\">glyph&nbsp;=&nbsp;Patches(id='1224', ...),</div></div><div class=\"1241\" style=\"display: none;\"><div style=\"display: table-cell;\"></div><div style=\"display: table-cell;\">hover_glyph&nbsp;=&nbsp;None,</div></div><div class=\"1241\" style=\"display: none;\"><div style=\"display: table-cell;\"></div><div style=\"display: table-cell;\">js_event_callbacks&nbsp;=&nbsp;{},</div></div><div class=\"1241\" style=\"display: none;\"><div style=\"display: table-cell;\"></div><div style=\"display: table-cell;\">js_property_callbacks&nbsp;=&nbsp;{},</div></div><div class=\"1241\" style=\"display: none;\"><div style=\"display: table-cell;\"></div><div style=\"display: table-cell;\">level&nbsp;=&nbsp;'glyph',</div></div><div class=\"1241\" style=\"display: none;\"><div style=\"display: table-cell;\"></div><div style=\"display: table-cell;\">muted&nbsp;=&nbsp;False,</div></div><div class=\"1241\" style=\"display: none;\"><div style=\"display: table-cell;\"></div><div style=\"display: table-cell;\">muted_glyph&nbsp;=&nbsp;None,</div></div><div class=\"1241\" style=\"display: none;\"><div style=\"display: table-cell;\"></div><div style=\"display: table-cell;\">name&nbsp;=&nbsp;None,</div></div><div class=\"1241\" style=\"display: none;\"><div style=\"display: table-cell;\"></div><div style=\"display: table-cell;\">nonselection_glyph&nbsp;=&nbsp;'auto',</div></div><div class=\"1241\" style=\"display: none;\"><div style=\"display: table-cell;\"></div><div style=\"display: table-cell;\">selection_glyph&nbsp;=&nbsp;'auto',</div></div><div class=\"1241\" style=\"display: none;\"><div style=\"display: table-cell;\"></div><div style=\"display: table-cell;\">subscribed_events&nbsp;=&nbsp;[],</div></div><div class=\"1241\" style=\"display: none;\"><div style=\"display: table-cell;\"></div><div style=\"display: table-cell;\">tags&nbsp;=&nbsp;[],</div></div><div class=\"1241\" style=\"display: none;\"><div style=\"display: table-cell;\"></div><div style=\"display: table-cell;\">view&nbsp;=&nbsp;CDSView(id='1240', ...),</div></div><div class=\"1241\" style=\"display: none;\"><div style=\"display: table-cell;\"></div><div style=\"display: table-cell;\">visible&nbsp;=&nbsp;True,</div></div><div class=\"1241\" style=\"display: none;\"><div style=\"display: table-cell;\"></div><div style=\"display: table-cell;\">x_range_name&nbsp;=&nbsp;'default',</div></div><div class=\"1241\" style=\"display: none;\"><div style=\"display: table-cell;\"></div><div style=\"display: table-cell;\">y_range_name&nbsp;=&nbsp;'default')</div></div></div>\n",
       "<script>\n",
       "(function() {\n",
       "  var expanded = false;\n",
       "  var ellipsis = document.getElementById(\"1242\");\n",
       "  ellipsis.addEventListener(\"click\", function() {\n",
       "    var rows = document.getElementsByClassName(\"1241\");\n",
       "    for (var i = 0; i < rows.length; i++) {\n",
       "      var el = rows[i];\n",
       "      el.style.display = expanded ? \"none\" : \"table-row\";\n",
       "    }\n",
       "    ellipsis.innerHTML = expanded ? \"&hellip;)\" : \"&lsaquo;&lsaquo;&lsaquo;\";\n",
       "    expanded = !expanded;\n",
       "  });\n",
       "})();\n",
       "</script>\n"
      ],
      "text/plain": [
       "GlyphRenderer(id='1239', ...)"
      ]
     },
     "execution_count": 11,
     "metadata": {},
     "output_type": "execute_result"
    }
   ],
   "source": [
    "values = c[0:-1]\n",
    "depths= d2\n",
    "\n",
    "#lithologies\n",
    "lithologies = [\"sand\",\"shale\",\"siltstone\", \"Interbededd sand-shale\", \"limestone\", \"mudstone\", \"volcanic\",\"dolomite\"]\n",
    "thicks = [abs(depths[i+1]-depths[i]) for i in range((len(values)))]\n",
    "\n",
    "#initiation of variables\n",
    "y1 = []\n",
    "y2= []\n",
    "y3 = []\n",
    "y4=[]\n",
    "y5 = []\n",
    "y6=[]\n",
    "y7=[]\n",
    "y8=[]\n",
    "\n",
    "x1 = []\n",
    "x2 = []\n",
    "x3=[]\n",
    "x4=[]\n",
    "x5=[]\n",
    "x6=[]\n",
    "x7=[]\n",
    "x8=[]\n",
    "\n",
    "th = []\n",
    "th2 =[]\n",
    "th3=[]\n",
    "th4=[]\n",
    "th5=[]\n",
    "th6=[]\n",
    "th7=[]\n",
    "th8=[]\n",
    "\n",
    "lit = []\n",
    "lit2 =[]\n",
    "lit3 = []\n",
    "lit4=[]\n",
    "lit5=[]\n",
    "lit6=[]\n",
    "lit7=[]\n",
    "lit8=[]\n",
    "\n",
    "\n",
    "#classes\n",
    "for i in range((len(values))):\n",
    "    if values[i] == 1:\n",
    "        yy = depths[i]\n",
    "        xx = 0*i\n",
    "        ttt = thicks[i]\n",
    "        th.append(ttt)\n",
    "        x1.append(xx)\n",
    "        y1.append(yy)\n",
    "        l = lithologies[0]\n",
    "        lit.append(l)\n",
    "        \n",
    "for i in range((len(values))):\n",
    "    if values[i] == 2:\n",
    "        yy = depths[i]\n",
    "        xx = 0*i\n",
    "        ttt = thicks[i]\n",
    "        th2.append(ttt)\n",
    "        x2.append(xx)\n",
    "        y2.append(yy)\n",
    "        l = lithologies[1]\n",
    "        lit2.append(l)\n",
    "        \n",
    "for i in range((len(values))):\n",
    "    if values[i] == 3:\n",
    "        yy = depths[i]\n",
    "        xx = 0*i\n",
    "        x3.append(xx)\n",
    "        y3.append(yy)\n",
    "        ttt = thicks[i]\n",
    "        th3.append(ttt)\n",
    "        l = lithologies[2]\n",
    "        lit3.append(l)\n",
    "        \n",
    "for i in range((len(values))):\n",
    "    if values[i] == 4:\n",
    "        yy = depths[i]\n",
    "        xx = 0*i\n",
    "        x4.append(xx)\n",
    "        y4.append(yy)\n",
    "        ttt = thicks[i]\n",
    "        th4.append(ttt)\n",
    "        l = lithologies[3]\n",
    "        lit4.append(l)\n",
    "\n",
    "for i in range((len(values))):\n",
    "    if values[i] == 5:\n",
    "        yy = depths[i]\n",
    "        xx = 0*i\n",
    "        x5.append(xx)\n",
    "        y5.append(yy)\n",
    "        ttt = thicks[i]\n",
    "        th5.append(ttt)\n",
    "        l = lithologies[4]\n",
    "        lit5.append(l)   \n",
    "        \n",
    "for i in range((len(values))):\n",
    "    if values[i] == 6:\n",
    "        yy = depths[i]\n",
    "        xx = 0*i\n",
    "        x6.append(xx)\n",
    "        y6.append(yy)\n",
    "        ttt = thicks[i]\n",
    "        th6.append(ttt)\n",
    "        l = lithologies[5]\n",
    "        lit6.append(l)  \n",
    "        \n",
    "for i in range((len(values))):\n",
    "    if values[i] == 7:\n",
    "        yy = depths[i]\n",
    "        xx = 0*i\n",
    "        x7.append(xx)\n",
    "        y7.append(yy)\n",
    "        ttt = thicks[i]\n",
    "        th7.append(ttt)\n",
    "        l = lithologies[6]\n",
    "        lit7.append(l) \n",
    "        \n",
    "for i in range((len(values))):\n",
    "    if values[i] == 8:\n",
    "        yy = depths[i]\n",
    "        xx = 0*i\n",
    "        x8.append(xx)\n",
    "        y8.append(yy)\n",
    "        ttt = thicks[i]\n",
    "        th8.append(ttt)\n",
    "        l = lithologies[7]\n",
    "        lit8.append(l) \n",
    "         \n",
    "\n",
    "# shape of the rectangle\n",
    "xpts = np.array([1, -1, -1, 1])\n",
    "ypts = np.array([0,0,1,1])\n",
    "\n",
    "\n",
    "# coordinates of all rectangles\n",
    "source3 = ColumnDataSource(dict(\n",
    "        xs=[xpts+xx for i, xx in enumerate(x3)],\n",
    "        ys=[ypts*m+yy for m, yy in zip(th3,y3)],\n",
    "        lith=[1*ll for ll in lit3]\n",
    "    )\n",
    ")\n",
    "\n",
    "source1 = ColumnDataSource(dict(\n",
    "        xs=[xpts+xx for i, xx in enumerate(x1)],\n",
    "        ys=[ypts*m+yy for m, yy in zip(th,y1)],\n",
    "        lith=[1*ll for ll in lit]\n",
    "    )\n",
    ")\n",
    "\n",
    "source2 = ColumnDataSource(dict(\n",
    "        xs=[xpts+xx for i, xx in enumerate(x2)],\n",
    "        ys=[ypts*m+yy for m, yy in zip(th2,y2)],\n",
    "        lith=[1*ll for ll in lit2]\n",
    "    )\n",
    ")\n",
    "source4 = ColumnDataSource(dict(\n",
    "        xs=[xpts+xx for i, xx in enumerate(x4)],\n",
    "        ys=[ypts*m+yy for m, yy in zip(th4,y4)],\n",
    "        lith=[1*ll for ll in lit4]\n",
    "    )\n",
    ")\n",
    "source5 = ColumnDataSource(dict(\n",
    "        xs=[xpts+xx for i, xx in enumerate(x5)],\n",
    "        ys=[ypts*m+yy for m, yy in zip(th5,y5)],\n",
    "        lith=[1*ll for ll in lit5]\n",
    "    )\n",
    ")\n",
    "\n",
    "source6 = ColumnDataSource(dict(\n",
    "        xs=[xpts+xx for i, xx in enumerate(x6)],\n",
    "        ys=[ypts*m+yy for m, yy in zip(th6,y6)],\n",
    "        lith=[1*ll for ll in lit6]\n",
    "    )\n",
    ")\n",
    "\n",
    "source7 = ColumnDataSource(dict(\n",
    "        xs=[xpts+xx for i, xx in enumerate(x7)],\n",
    "        ys=[ypts*m+yy for m, yy in zip(th7,y7)],\n",
    "        lith=[1*ll for ll in lit7]\n",
    "    )\n",
    ")\n",
    "\n",
    "source8 = ColumnDataSource(dict(\n",
    "        xs=[xpts+xx for i, xx in enumerate(x8)],\n",
    "        ys=[ypts*m+yy for m, yy in zip(th8,y8)],\n",
    "        lith=[1*ll for ll in lit8]\n",
    "    )\n",
    ")\n",
    "\n",
    "\n",
    "# parameters of the figure\n",
    "plot = figure(\n",
    "    title=\"Lithologies\", y_axis_label='depth (m)', x_range=(-1,1),\n",
    "    plot_width=300, plot_height=800, y_range=p.y_range, \n",
    "    h_symmetry=False, v_symmetry=False, min_border=0, tools=\"pan,ywheel_zoom,lasso_select,box_zoom,hover,reset\", \n",
    "    tooltips=[(\"Lithology\", \"@lith\")])\n",
    "\n",
    "plot.xaxis.visible = False\n",
    "\n",
    "glyph = Patches(xs=\"xs\", ys=\"ys\", fill_color=\"#F4D03F\", line_color='blue', line_alpha=0)\n",
    "glyph2 = Patches(xs=\"xs\", ys=\"ys\", fill_color=\"#6E2C00\", line_color='blue', line_alpha=0)\n",
    "glyph3 = Patches(xs=\"xs\", ys=\"ys\", fill_color=\"#DC7633\", line_color='blue', line_alpha=0)\n",
    "glyph4 = Patches(xs=\"xs\", ys=\"ys\", fill_color=\"#F5B041\", line_color='blue', line_alpha=0)\n",
    "glyph5 = Patches(xs=\"xs\", ys=\"ys\", fill_color=\"#AED6F1\", line_color='blue', line_alpha=0)\n",
    "glyph6 = Patches(xs=\"xs\", ys=\"ys\", fill_color=\"#1B4F72\", line_color='blue', line_alpha=0)\n",
    "glyph7 = Patches(xs=\"xs\", ys=\"ys\", fill_color=\"#196F3D\", line_color='blue', line_alpha=0)\n",
    "glyph8 = Patches(xs=\"xs\", ys=\"ys\", fill_color=\"#A569BD\", line_color='blue', line_alpha=0)\n",
    "#glyph9 = Patches(xs=\"xs\", ys=\"ys\", fill_color=\"#C41286\", line_color='blue', line_alpha=0)\n",
    "plot.add_glyph(source3, glyph3)\n",
    "plot.add_glyph(source1, glyph)\n",
    "plot.add_glyph(source2, glyph2)\n",
    "plot.add_glyph(source4, glyph4)\n",
    "plot.add_glyph(source5, glyph5)\n",
    "plot.add_glyph(source6, glyph6)\n",
    "plot.add_glyph(source7, glyph7)\n",
    "plot.add_glyph(source8, glyph8)\n",
    "#plot.add_glyph(source9, glyph9)\n",
    "\n",
    "\n",
    "#plot.line([-1,1],[0,0],line_width=2.0,color='black')\n",
    "\n",
    "\n",
    "#plot.add_layout(Grid(dimension=0, ticker=xaxis.ticker))\n",
    "#plot.add_layout(Grid(dimension=1, ticker=yaxis.ticker))\n",
    "\n",
    "# curdoc().add_root(plot)\n",
    "\n",
    "\n",
    "#show(plot)"
   ]
  },
  {
   "cell_type": "code",
   "execution_count": 12,
   "metadata": {},
   "outputs": [],
   "source": [
    "# confidence plot\n",
    "from bokeh.models import ColumnDataSource, LabelSet\n",
    "\n",
    "con = np.load('pred.npy')\n",
    "conf = con[1,:]\n",
    "\n",
    "depth = df['DEPT']\n",
    "#conf = np.random.random(len(depth))\n",
    "ind = range(len(depth))\n",
    "prob = pd.DataFrame(depth,index=ind,columns = ['depth'])\n",
    "prob['depth'] = df['DEPT']\n",
    "prob['conf'] = conf\n",
    "#elements['conf'] = conf\n",
    "#elements = elements[elements[\"atomic number\"] <= 82]\n",
    "#elements = elements[~pd.isnull(elements[\"melting point\"])]\n",
    "#mass = [float(x.strip(\"[]\")) for x in elements[\"atomic mass\"]]\n",
    "#elements[\"atomic mass\"] = mass\n",
    "\n",
    "\n",
    "palette = [\"#053061\", \"#2166ac\", \"#4393c3\", \"#92c5de\", \"#d1e5f0\",\n",
    "           \"#BFEBE3\", \"#fddbc7\", \"#f4a582\", \"#d6604d\", \"#b2182b\", \"#67001f\"]\n",
    "\n",
    "#melting_points = elements[\"melting point\"]\n",
    "low = min(conf)\n",
    "high = max(conf)\n",
    "conf_inds = [int(10*(x-low)/(high-low)) for x in conf] #gives items in colors a value from 0-10\n",
    "conf_colors = [palette[i] for i in conf_inds]\n",
    "prob['conf_colors'] = conf_colors\n",
    "\n",
    "#TITLE = \"Density vs Atomic Weight of Elements (colored by melting point)\"\n",
    "TOOLS = \"hover,pan,wheel_zoom,box_zoom,reset,save\"\n",
    "\n"
   ]
  },
  {
   "cell_type": "code",
   "execution_count": 14,
   "metadata": {},
   "outputs": [
    {
     "ename": "RuntimeError",
     "evalue": "Models must be owned by only a single document, Range1d(id='1004', ...) is already in a doc",
     "output_type": "error",
     "traceback": [
      "\u001b[1;31m---------------------------------------------------------------------------\u001b[0m",
      "\u001b[1;31mRuntimeError\u001b[0m                              Traceback (most recent call last)",
      "\u001b[1;32m<ipython-input-14-80ce707c47aa>\u001b[0m in \u001b[0;36m<module>\u001b[1;34m\u001b[0m\n\u001b[0;32m     30\u001b[0m \u001b[1;31m#s = gridplot([[pp,ppp]])\u001b[0m\u001b[1;33m\u001b[0m\u001b[1;33m\u001b[0m\u001b[1;33m\u001b[0m\u001b[0m\n\u001b[0;32m     31\u001b[0m \u001b[1;33m\u001b[0m\u001b[0m\n\u001b[1;32m---> 32\u001b[1;33m \u001b[0mshow\u001b[0m\u001b[1;33m(\u001b[0m\u001b[0mpp\u001b[0m\u001b[1;33m)\u001b[0m\u001b[1;33m\u001b[0m\u001b[1;33m\u001b[0m\u001b[0m\n\u001b[0m",
      "\u001b[1;32m~\\Anaconda3\\envs\\geocomp\\lib\\site-packages\\bokeh\\io\\showing.py\u001b[0m in \u001b[0;36mshow\u001b[1;34m(obj, browser, new, notebook_handle, notebook_url)\u001b[0m\n\u001b[0;32m    133\u001b[0m         \u001b[1;32mreturn\u001b[0m \u001b[0mrun_notebook_hook\u001b[0m\u001b[1;33m(\u001b[0m\u001b[0mstate\u001b[0m\u001b[1;33m.\u001b[0m\u001b[0mnotebook_type\u001b[0m\u001b[1;33m,\u001b[0m \u001b[1;34m'app'\u001b[0m\u001b[1;33m,\u001b[0m \u001b[0mobj\u001b[0m\u001b[1;33m,\u001b[0m \u001b[0mstate\u001b[0m\u001b[1;33m,\u001b[0m \u001b[0mnotebook_url\u001b[0m\u001b[1;33m)\u001b[0m\u001b[1;33m\u001b[0m\u001b[1;33m\u001b[0m\u001b[0m\n\u001b[0;32m    134\u001b[0m \u001b[1;33m\u001b[0m\u001b[0m\n\u001b[1;32m--> 135\u001b[1;33m     \u001b[1;32mreturn\u001b[0m \u001b[0m_show_with_state\u001b[0m\u001b[1;33m(\u001b[0m\u001b[0mobj\u001b[0m\u001b[1;33m,\u001b[0m \u001b[0mstate\u001b[0m\u001b[1;33m,\u001b[0m \u001b[0mbrowser\u001b[0m\u001b[1;33m,\u001b[0m \u001b[0mnew\u001b[0m\u001b[1;33m,\u001b[0m \u001b[0mnotebook_handle\u001b[0m\u001b[1;33m=\u001b[0m\u001b[0mnotebook_handle\u001b[0m\u001b[1;33m)\u001b[0m\u001b[1;33m\u001b[0m\u001b[1;33m\u001b[0m\u001b[0m\n\u001b[0m\u001b[0;32m    136\u001b[0m \u001b[1;33m\u001b[0m\u001b[0m\n\u001b[0;32m    137\u001b[0m \u001b[1;31m#-----------------------------------------------------------------------------\u001b[0m\u001b[1;33m\u001b[0m\u001b[1;33m\u001b[0m\u001b[1;33m\u001b[0m\u001b[0m\n",
      "\u001b[1;32m~\\Anaconda3\\envs\\geocomp\\lib\\site-packages\\bokeh\\io\\showing.py\u001b[0m in \u001b[0;36m_show_with_state\u001b[1;34m(obj, state, browser, new, notebook_handle)\u001b[0m\n\u001b[0;32m    171\u001b[0m \u001b[1;33m\u001b[0m\u001b[0m\n\u001b[0;32m    172\u001b[0m     \u001b[1;32mif\u001b[0m \u001b[0mstate\u001b[0m\u001b[1;33m.\u001b[0m\u001b[0mfile\u001b[0m \u001b[1;32mor\u001b[0m \u001b[1;32mnot\u001b[0m \u001b[0mshown\u001b[0m\u001b[1;33m:\u001b[0m\u001b[1;33m\u001b[0m\u001b[1;33m\u001b[0m\u001b[0m\n\u001b[1;32m--> 173\u001b[1;33m         \u001b[0m_show_file_with_state\u001b[0m\u001b[1;33m(\u001b[0m\u001b[0mobj\u001b[0m\u001b[1;33m,\u001b[0m \u001b[0mstate\u001b[0m\u001b[1;33m,\u001b[0m \u001b[0mnew\u001b[0m\u001b[1;33m,\u001b[0m \u001b[0mcontroller\u001b[0m\u001b[1;33m)\u001b[0m\u001b[1;33m\u001b[0m\u001b[1;33m\u001b[0m\u001b[0m\n\u001b[0m\u001b[0;32m    174\u001b[0m \u001b[1;33m\u001b[0m\u001b[0m\n\u001b[0;32m    175\u001b[0m     \u001b[1;32mreturn\u001b[0m \u001b[0mcomms_handle\u001b[0m\u001b[1;33m\u001b[0m\u001b[1;33m\u001b[0m\u001b[0m\n",
      "\u001b[1;32m~\\Anaconda3\\envs\\geocomp\\lib\\site-packages\\bokeh\\io\\showing.py\u001b[0m in \u001b[0;36m_show_file_with_state\u001b[1;34m(obj, state, new, controller)\u001b[0m\n\u001b[0;32m    154\u001b[0m \u001b[1;33m\u001b[0m\u001b[0m\n\u001b[0;32m    155\u001b[0m     '''\n\u001b[1;32m--> 156\u001b[1;33m     \u001b[0mfilename\u001b[0m \u001b[1;33m=\u001b[0m \u001b[0msave\u001b[0m\u001b[1;33m(\u001b[0m\u001b[0mobj\u001b[0m\u001b[1;33m,\u001b[0m \u001b[0mstate\u001b[0m\u001b[1;33m=\u001b[0m\u001b[0mstate\u001b[0m\u001b[1;33m)\u001b[0m\u001b[1;33m\u001b[0m\u001b[1;33m\u001b[0m\u001b[0m\n\u001b[0m\u001b[0;32m    157\u001b[0m     \u001b[0mcontroller\u001b[0m\u001b[1;33m.\u001b[0m\u001b[0mopen\u001b[0m\u001b[1;33m(\u001b[0m\u001b[1;34m\"file://\"\u001b[0m \u001b[1;33m+\u001b[0m \u001b[0mfilename\u001b[0m\u001b[1;33m,\u001b[0m \u001b[0mnew\u001b[0m\u001b[1;33m=\u001b[0m\u001b[0mNEW_PARAM\u001b[0m\u001b[1;33m[\u001b[0m\u001b[0mnew\u001b[0m\u001b[1;33m]\u001b[0m\u001b[1;33m)\u001b[0m\u001b[1;33m\u001b[0m\u001b[1;33m\u001b[0m\u001b[0m\n\u001b[0;32m    158\u001b[0m \u001b[1;33m\u001b[0m\u001b[0m\n",
      "\u001b[1;32m~\\Anaconda3\\envs\\geocomp\\lib\\site-packages\\bokeh\\io\\saving.py\u001b[0m in \u001b[0;36msave\u001b[1;34m(obj, filename, resources, title, template, state, **kwargs)\u001b[0m\n\u001b[0;32m     81\u001b[0m \u001b[1;33m\u001b[0m\u001b[0m\n\u001b[0;32m     82\u001b[0m     \u001b[0mfilename\u001b[0m\u001b[1;33m,\u001b[0m \u001b[0mresources\u001b[0m\u001b[1;33m,\u001b[0m \u001b[0mtitle\u001b[0m \u001b[1;33m=\u001b[0m \u001b[0m_get_save_args\u001b[0m\u001b[1;33m(\u001b[0m\u001b[0mstate\u001b[0m\u001b[1;33m,\u001b[0m \u001b[0mfilename\u001b[0m\u001b[1;33m,\u001b[0m \u001b[0mresources\u001b[0m\u001b[1;33m,\u001b[0m \u001b[0mtitle\u001b[0m\u001b[1;33m)\u001b[0m\u001b[1;33m\u001b[0m\u001b[1;33m\u001b[0m\u001b[0m\n\u001b[1;32m---> 83\u001b[1;33m     \u001b[0m_save_helper\u001b[0m\u001b[1;33m(\u001b[0m\u001b[0mobj\u001b[0m\u001b[1;33m,\u001b[0m \u001b[0mfilename\u001b[0m\u001b[1;33m,\u001b[0m \u001b[0mresources\u001b[0m\u001b[1;33m,\u001b[0m \u001b[0mtitle\u001b[0m\u001b[1;33m,\u001b[0m \u001b[0mtemplate\u001b[0m\u001b[1;33m)\u001b[0m\u001b[1;33m\u001b[0m\u001b[1;33m\u001b[0m\u001b[0m\n\u001b[0m\u001b[0;32m     84\u001b[0m     \u001b[1;32mreturn\u001b[0m \u001b[0mabspath\u001b[0m\u001b[1;33m(\u001b[0m\u001b[0mfilename\u001b[0m\u001b[1;33m)\u001b[0m\u001b[1;33m\u001b[0m\u001b[1;33m\u001b[0m\u001b[0m\n\u001b[0;32m     85\u001b[0m \u001b[1;33m\u001b[0m\u001b[0m\n",
      "\u001b[1;32m~\\Anaconda3\\envs\\geocomp\\lib\\site-packages\\bokeh\\io\\saving.py\u001b[0m in \u001b[0;36m_save_helper\u001b[1;34m(obj, filename, resources, title, template)\u001b[0m\n\u001b[0;32m    143\u001b[0m     '''\n\u001b[0;32m    144\u001b[0m     \u001b[1;32mfrom\u001b[0m \u001b[1;33m.\u001b[0m\u001b[1;33m.\u001b[0m\u001b[0membed\u001b[0m \u001b[1;32mimport\u001b[0m \u001b[0mfile_html\u001b[0m\u001b[1;33m\u001b[0m\u001b[1;33m\u001b[0m\u001b[0m\n\u001b[1;32m--> 145\u001b[1;33m     \u001b[0mhtml\u001b[0m \u001b[1;33m=\u001b[0m \u001b[0mfile_html\u001b[0m\u001b[1;33m(\u001b[0m\u001b[0mobj\u001b[0m\u001b[1;33m,\u001b[0m \u001b[0mresources\u001b[0m\u001b[1;33m,\u001b[0m \u001b[0mtitle\u001b[0m\u001b[1;33m=\u001b[0m\u001b[0mtitle\u001b[0m\u001b[1;33m,\u001b[0m \u001b[0mtemplate\u001b[0m\u001b[1;33m=\u001b[0m\u001b[0mtemplate\u001b[0m\u001b[1;33m)\u001b[0m\u001b[1;33m\u001b[0m\u001b[1;33m\u001b[0m\u001b[0m\n\u001b[0m\u001b[0;32m    146\u001b[0m \u001b[1;33m\u001b[0m\u001b[0m\n\u001b[0;32m    147\u001b[0m     \u001b[1;32mwith\u001b[0m \u001b[0mio\u001b[0m\u001b[1;33m.\u001b[0m\u001b[0mopen\u001b[0m\u001b[1;33m(\u001b[0m\u001b[0mfilename\u001b[0m\u001b[1;33m,\u001b[0m \u001b[0mmode\u001b[0m\u001b[1;33m=\u001b[0m\u001b[1;34m\"w\"\u001b[0m\u001b[1;33m,\u001b[0m \u001b[0mencoding\u001b[0m\u001b[1;33m=\u001b[0m\u001b[1;34m\"utf-8\"\u001b[0m\u001b[1;33m)\u001b[0m \u001b[1;32mas\u001b[0m \u001b[0mf\u001b[0m\u001b[1;33m:\u001b[0m\u001b[1;33m\u001b[0m\u001b[1;33m\u001b[0m\u001b[0m\n",
      "\u001b[1;32m~\\Anaconda3\\envs\\geocomp\\lib\\site-packages\\bokeh\\embed\\standalone.py\u001b[0m in \u001b[0;36mfile_html\u001b[1;34m(models, resources, title, template, template_variables, theme, suppress_callback_warning, _always_new)\u001b[0m\n\u001b[0;32m    305\u001b[0m         \u001b[0mmodels\u001b[0m \u001b[1;33m=\u001b[0m \u001b[0mmodels\u001b[0m\u001b[1;33m.\u001b[0m\u001b[0mroots\u001b[0m\u001b[1;33m\u001b[0m\u001b[1;33m\u001b[0m\u001b[0m\n\u001b[0;32m    306\u001b[0m \u001b[1;33m\u001b[0m\u001b[0m\n\u001b[1;32m--> 307\u001b[1;33m     \u001b[1;32mwith\u001b[0m \u001b[0mOutputDocumentFor\u001b[0m\u001b[1;33m(\u001b[0m\u001b[0mmodels\u001b[0m\u001b[1;33m,\u001b[0m \u001b[0mapply_theme\u001b[0m\u001b[1;33m=\u001b[0m\u001b[0mtheme\u001b[0m\u001b[1;33m,\u001b[0m \u001b[0malways_new\u001b[0m\u001b[1;33m=\u001b[0m\u001b[0m_always_new\u001b[0m\u001b[1;33m)\u001b[0m \u001b[1;32mas\u001b[0m \u001b[0mdoc\u001b[0m\u001b[1;33m:\u001b[0m\u001b[1;33m\u001b[0m\u001b[1;33m\u001b[0m\u001b[0m\n\u001b[0m\u001b[0;32m    308\u001b[0m         \u001b[1;33m(\u001b[0m\u001b[0mdocs_json\u001b[0m\u001b[1;33m,\u001b[0m \u001b[0mrender_items\u001b[0m\u001b[1;33m)\u001b[0m \u001b[1;33m=\u001b[0m \u001b[0mstandalone_docs_json_and_render_items\u001b[0m\u001b[1;33m(\u001b[0m\u001b[0mmodels\u001b[0m\u001b[1;33m,\u001b[0m \u001b[0msuppress_callback_warning\u001b[0m\u001b[1;33m=\u001b[0m\u001b[0msuppress_callback_warning\u001b[0m\u001b[1;33m)\u001b[0m\u001b[1;33m\u001b[0m\u001b[1;33m\u001b[0m\u001b[0m\n\u001b[0;32m    309\u001b[0m         \u001b[0mtitle\u001b[0m \u001b[1;33m=\u001b[0m \u001b[0m_title_from_models\u001b[0m\u001b[1;33m(\u001b[0m\u001b[0mmodels\u001b[0m\u001b[1;33m,\u001b[0m \u001b[0mtitle\u001b[0m\u001b[1;33m)\u001b[0m\u001b[1;33m\u001b[0m\u001b[1;33m\u001b[0m\u001b[0m\n",
      "\u001b[1;32m~\\Anaconda3\\envs\\geocomp\\lib\\contextlib.py\u001b[0m in \u001b[0;36m__enter__\u001b[1;34m(self)\u001b[0m\n\u001b[0;32m    110\u001b[0m         \u001b[1;32mdel\u001b[0m \u001b[0mself\u001b[0m\u001b[1;33m.\u001b[0m\u001b[0margs\u001b[0m\u001b[1;33m,\u001b[0m \u001b[0mself\u001b[0m\u001b[1;33m.\u001b[0m\u001b[0mkwds\u001b[0m\u001b[1;33m,\u001b[0m \u001b[0mself\u001b[0m\u001b[1;33m.\u001b[0m\u001b[0mfunc\u001b[0m\u001b[1;33m\u001b[0m\u001b[1;33m\u001b[0m\u001b[0m\n\u001b[0;32m    111\u001b[0m         \u001b[1;32mtry\u001b[0m\u001b[1;33m:\u001b[0m\u001b[1;33m\u001b[0m\u001b[1;33m\u001b[0m\u001b[0m\n\u001b[1;32m--> 112\u001b[1;33m             \u001b[1;32mreturn\u001b[0m \u001b[0mnext\u001b[0m\u001b[1;33m(\u001b[0m\u001b[0mself\u001b[0m\u001b[1;33m.\u001b[0m\u001b[0mgen\u001b[0m\u001b[1;33m)\u001b[0m\u001b[1;33m\u001b[0m\u001b[1;33m\u001b[0m\u001b[0m\n\u001b[0m\u001b[0;32m    113\u001b[0m         \u001b[1;32mexcept\u001b[0m \u001b[0mStopIteration\u001b[0m\u001b[1;33m:\u001b[0m\u001b[1;33m\u001b[0m\u001b[1;33m\u001b[0m\u001b[0m\n\u001b[0;32m    114\u001b[0m             \u001b[1;32mraise\u001b[0m \u001b[0mRuntimeError\u001b[0m\u001b[1;33m(\u001b[0m\u001b[1;34m\"generator didn't yield\"\u001b[0m\u001b[1;33m)\u001b[0m \u001b[1;32mfrom\u001b[0m \u001b[1;32mNone\u001b[0m\u001b[1;33m\u001b[0m\u001b[1;33m\u001b[0m\u001b[0m\n",
      "\u001b[1;32m~\\Anaconda3\\envs\\geocomp\\lib\\site-packages\\bokeh\\embed\\util.py\u001b[0m in \u001b[0;36mOutputDocumentFor\u001b[1;34m(objs, apply_theme, always_new)\u001b[0m\n\u001b[0;32m    136\u001b[0m             \u001b[0mdoc\u001b[0m \u001b[1;33m=\u001b[0m \u001b[0mDocument\u001b[0m\u001b[1;33m(\u001b[0m\u001b[1;33m)\u001b[0m\u001b[1;33m\u001b[0m\u001b[1;33m\u001b[0m\u001b[0m\n\u001b[0;32m    137\u001b[0m             \u001b[1;32mfor\u001b[0m \u001b[0mmodel\u001b[0m \u001b[1;32min\u001b[0m \u001b[0mobjs\u001b[0m\u001b[1;33m:\u001b[0m\u001b[1;33m\u001b[0m\u001b[1;33m\u001b[0m\u001b[0m\n\u001b[1;32m--> 138\u001b[1;33m                 \u001b[0mdoc\u001b[0m\u001b[1;33m.\u001b[0m\u001b[0madd_root\u001b[0m\u001b[1;33m(\u001b[0m\u001b[0mmodel\u001b[0m\u001b[1;33m)\u001b[0m\u001b[1;33m\u001b[0m\u001b[1;33m\u001b[0m\u001b[0m\n\u001b[0m\u001b[0;32m    139\u001b[0m \u001b[1;33m\u001b[0m\u001b[0m\n\u001b[0;32m    140\u001b[0m         \u001b[1;31m# handle a single shared document\u001b[0m\u001b[1;33m\u001b[0m\u001b[1;33m\u001b[0m\u001b[1;33m\u001b[0m\u001b[0m\n",
      "\u001b[1;32m~\\Anaconda3\\envs\\geocomp\\lib\\site-packages\\bokeh\\document\\document.py\u001b[0m in \u001b[0;36madd_root\u001b[1;34m(self, model, setter)\u001b[0m\n\u001b[0;32m    303\u001b[0m             \u001b[0mself\u001b[0m\u001b[1;33m.\u001b[0m\u001b[0m_roots\u001b[0m\u001b[1;33m.\u001b[0m\u001b[0mappend\u001b[0m\u001b[1;33m(\u001b[0m\u001b[0mmodel\u001b[0m\u001b[1;33m)\u001b[0m\u001b[1;33m\u001b[0m\u001b[1;33m\u001b[0m\u001b[0m\n\u001b[0;32m    304\u001b[0m         \u001b[1;32mfinally\u001b[0m\u001b[1;33m:\u001b[0m\u001b[1;33m\u001b[0m\u001b[1;33m\u001b[0m\u001b[0m\n\u001b[1;32m--> 305\u001b[1;33m             \u001b[0mself\u001b[0m\u001b[1;33m.\u001b[0m\u001b[0m_pop_all_models_freeze\u001b[0m\u001b[1;33m(\u001b[0m\u001b[1;33m)\u001b[0m\u001b[1;33m\u001b[0m\u001b[1;33m\u001b[0m\u001b[0m\n\u001b[0m\u001b[0;32m    306\u001b[0m         \u001b[0mself\u001b[0m\u001b[1;33m.\u001b[0m\u001b[0m_trigger_on_change\u001b[0m\u001b[1;33m(\u001b[0m\u001b[0mRootAddedEvent\u001b[0m\u001b[1;33m(\u001b[0m\u001b[0mself\u001b[0m\u001b[1;33m,\u001b[0m \u001b[0mmodel\u001b[0m\u001b[1;33m,\u001b[0m \u001b[0msetter\u001b[0m\u001b[1;33m)\u001b[0m\u001b[1;33m)\u001b[0m\u001b[1;33m\u001b[0m\u001b[1;33m\u001b[0m\u001b[0m\n\u001b[0;32m    307\u001b[0m \u001b[1;33m\u001b[0m\u001b[0m\n",
      "\u001b[1;32m~\\Anaconda3\\envs\\geocomp\\lib\\site-packages\\bokeh\\document\\document.py\u001b[0m in \u001b[0;36m_pop_all_models_freeze\u001b[1;34m(self)\u001b[0m\n\u001b[0;32m   1017\u001b[0m         \u001b[0mself\u001b[0m\u001b[1;33m.\u001b[0m\u001b[0m_all_models_freeze_count\u001b[0m \u001b[1;33m-=\u001b[0m \u001b[1;36m1\u001b[0m\u001b[1;33m\u001b[0m\u001b[1;33m\u001b[0m\u001b[0m\n\u001b[0;32m   1018\u001b[0m         \u001b[1;32mif\u001b[0m \u001b[0mself\u001b[0m\u001b[1;33m.\u001b[0m\u001b[0m_all_models_freeze_count\u001b[0m \u001b[1;33m==\u001b[0m \u001b[1;36m0\u001b[0m\u001b[1;33m:\u001b[0m\u001b[1;33m\u001b[0m\u001b[1;33m\u001b[0m\u001b[0m\n\u001b[1;32m-> 1019\u001b[1;33m             \u001b[0mself\u001b[0m\u001b[1;33m.\u001b[0m\u001b[0m_recompute_all_models\u001b[0m\u001b[1;33m(\u001b[0m\u001b[1;33m)\u001b[0m\u001b[1;33m\u001b[0m\u001b[1;33m\u001b[0m\u001b[0m\n\u001b[0m\u001b[0;32m   1020\u001b[0m \u001b[1;33m\u001b[0m\u001b[0m\n\u001b[0;32m   1021\u001b[0m     \u001b[1;32mdef\u001b[0m \u001b[0m_recompute_all_models\u001b[0m\u001b[1;33m(\u001b[0m\u001b[0mself\u001b[0m\u001b[1;33m)\u001b[0m\u001b[1;33m:\u001b[0m\u001b[1;33m\u001b[0m\u001b[1;33m\u001b[0m\u001b[0m\n",
      "\u001b[1;32m~\\Anaconda3\\envs\\geocomp\\lib\\site-packages\\bokeh\\document\\document.py\u001b[0m in \u001b[0;36m_recompute_all_models\u001b[1;34m(self)\u001b[0m\n\u001b[0;32m   1040\u001b[0m             \u001b[0md\u001b[0m\u001b[1;33m.\u001b[0m\u001b[0m_detach_document\u001b[0m\u001b[1;33m(\u001b[0m\u001b[1;33m)\u001b[0m\u001b[1;33m\u001b[0m\u001b[1;33m\u001b[0m\u001b[0m\n\u001b[0;32m   1041\u001b[0m         \u001b[1;32mfor\u001b[0m \u001b[0ma\u001b[0m \u001b[1;32min\u001b[0m \u001b[0mto_attach\u001b[0m\u001b[1;33m:\u001b[0m\u001b[1;33m\u001b[0m\u001b[1;33m\u001b[0m\u001b[0m\n\u001b[1;32m-> 1042\u001b[1;33m             \u001b[0ma\u001b[0m\u001b[1;33m.\u001b[0m\u001b[0m_attach_document\u001b[0m\u001b[1;33m(\u001b[0m\u001b[0mself\u001b[0m\u001b[1;33m)\u001b[0m\u001b[1;33m\u001b[0m\u001b[1;33m\u001b[0m\u001b[0m\n\u001b[0m\u001b[0;32m   1043\u001b[0m         \u001b[0mself\u001b[0m\u001b[1;33m.\u001b[0m\u001b[0m_all_models\u001b[0m \u001b[1;33m=\u001b[0m \u001b[0mrecomputed\u001b[0m\u001b[1;33m\u001b[0m\u001b[1;33m\u001b[0m\u001b[0m\n\u001b[0;32m   1044\u001b[0m         \u001b[0mself\u001b[0m\u001b[1;33m.\u001b[0m\u001b[0m_all_models_by_name\u001b[0m \u001b[1;33m=\u001b[0m \u001b[0mrecomputed_by_name\u001b[0m\u001b[1;33m\u001b[0m\u001b[1;33m\u001b[0m\u001b[0m\n",
      "\u001b[1;32m~\\Anaconda3\\envs\\geocomp\\lib\\site-packages\\bokeh\\model.py\u001b[0m in \u001b[0;36m_attach_document\u001b[1;34m(self, doc)\u001b[0m\n\u001b[0;32m    604\u001b[0m         '''\n\u001b[0;32m    605\u001b[0m         \u001b[1;32mif\u001b[0m \u001b[0mself\u001b[0m\u001b[1;33m.\u001b[0m\u001b[0m_document\u001b[0m \u001b[1;32mis\u001b[0m \u001b[1;32mnot\u001b[0m \u001b[1;32mNone\u001b[0m \u001b[1;32mand\u001b[0m \u001b[0mself\u001b[0m\u001b[1;33m.\u001b[0m\u001b[0m_document\u001b[0m \u001b[1;32mis\u001b[0m \u001b[1;32mnot\u001b[0m \u001b[0mdoc\u001b[0m\u001b[1;33m:\u001b[0m\u001b[1;33m\u001b[0m\u001b[1;33m\u001b[0m\u001b[0m\n\u001b[1;32m--> 606\u001b[1;33m             \u001b[1;32mraise\u001b[0m \u001b[0mRuntimeError\u001b[0m\u001b[1;33m(\u001b[0m\u001b[1;34m\"Models must be owned by only a single document, %r is already in a doc\"\u001b[0m \u001b[1;33m%\u001b[0m \u001b[1;33m(\u001b[0m\u001b[0mself\u001b[0m\u001b[1;33m)\u001b[0m\u001b[1;33m)\u001b[0m\u001b[1;33m\u001b[0m\u001b[1;33m\u001b[0m\u001b[0m\n\u001b[0m\u001b[0;32m    607\u001b[0m         \u001b[0mdoc\u001b[0m\u001b[1;33m.\u001b[0m\u001b[0mtheme\u001b[0m\u001b[1;33m.\u001b[0m\u001b[0mapply_to_model\u001b[0m\u001b[1;33m(\u001b[0m\u001b[0mself\u001b[0m\u001b[1;33m)\u001b[0m\u001b[1;33m\u001b[0m\u001b[1;33m\u001b[0m\u001b[0m\n\u001b[0;32m    608\u001b[0m         \u001b[0mself\u001b[0m\u001b[1;33m.\u001b[0m\u001b[0m_document\u001b[0m \u001b[1;33m=\u001b[0m \u001b[0mdoc\u001b[0m\u001b[1;33m\u001b[0m\u001b[1;33m\u001b[0m\u001b[0m\n",
      "\u001b[1;31mRuntimeError\u001b[0m: Models must be owned by only a single document, Range1d(id='1004', ...) is already in a doc"
     ]
    }
   ],
   "source": [
    "pp = figure(tools=TOOLS, toolbar_location=\"above\", y_range=p.y_range, plot_width=100, plot_height=800)\n",
    "#p.toolbar.logo = \"grey\"\n",
    "#p.background_fill_color = \"#dddddd\"\n",
    "pp.xaxis.axis_label = \"Probability\"\n",
    "pp.yaxis.axis_label = \"depth (m)\"\n",
    "#pp.grid.grid_line_color = \"grey\"\n",
    "pp.hover.tooltips = [\n",
    "    (\"Probability\", \"@conf\"),\n",
    "    (\"Depth:\", \"@depth\"),\n",
    "]\n",
    "\n",
    "\n",
    "\n",
    "#source = ColumnDataSource(conf,depth)\n",
    "source = ColumnDataSource(prob)\n",
    "\n",
    "pp.circle(\"conf\", \"depth\", size=2, source=source,\n",
    "         color='conf_colors', line_color=None, fill_alpha=1)\n",
    "\n",
    "#labels = LabelSet(x=\"probability\", y=\"depth (m)\", y_offset=8,\n",
    "#                  text_font_size=\"8pt\", text_color=\"#555555\",\n",
    "#                  source=source, text_align='center')\n",
    "#pp.add_layout(labels)\n",
    "\n",
    "output_file(\"confidence.html\")\n",
    "\n",
    "ppp = figure(x_axis_label='probability', y_axis_label='depth (m)', y_range=p.y_range, x_range=((0,1)), tools=\"pan,box_zoom,ywheel_zoom,hover,reset\", tooltips=[(\"Probability\", \"@x\"), (\"depth\", \"@y\")], plot_width=300, plot_height = 800)\n",
    "ppp.line(conf, depth, legend=\"probability\",line_width=0.5, color='black')\n",
    "\n",
    "#s = gridplot([[pp,ppp]])\n",
    "\n",
    "show(pp)"
   ]
  },
  {
   "cell_type": "code",
   "execution_count": null,
   "metadata": {},
   "outputs": [],
   "source": [
    "sss = gridplot([[p,p2,p3,plot,pp]])\n",
    "show(sss)"
   ]
  },
  {
   "cell_type": "code",
   "execution_count": null,
   "metadata": {},
   "outputs": [],
   "source": [
    "len(conf)"
   ]
  },
  {
   "cell_type": "code",
   "execution_count": null,
   "metadata": {},
   "outputs": [],
   "source": [
    "len(df['DEPT'])"
   ]
  },
  {
   "cell_type": "code",
   "execution_count": null,
   "metadata": {},
   "outputs": [],
   "source": []
  }
 ],
 "metadata": {
  "kernelspec": {
   "display_name": "geocomp",
   "language": "python",
   "name": "geocomp"
  },
  "language_info": {
   "codemirror_mode": {
    "name": "ipython",
    "version": 3
   },
   "file_extension": ".py",
   "mimetype": "text/x-python",
   "name": "python",
   "nbconvert_exporter": "python",
   "pygments_lexer": "ipython3",
   "version": "3.7.1"
  }
 },
 "nbformat": 4,
 "nbformat_minor": 2
}
