{
 "cells": [
  {
   "cell_type": "code",
   "execution_count": 1,
   "metadata": {},
   "outputs": [],
   "source": [
    "import pandas as pd"
   ]
  },
  {
   "cell_type": "code",
   "execution_count": 2,
   "metadata": {},
   "outputs": [],
   "source": [
    "dff = pd.read_csv(\"lithograph/data/well_logs_df.csv\")"
   ]
  },
  {
   "cell_type": "code",
   "execution_count": null,
   "metadata": {},
   "outputs": [],
   "source": [
    "dff.head()"
   ]
  },
  {
   "cell_type": "code",
   "execution_count": 3,
   "metadata": {},
   "outputs": [],
   "source": [
    "import matplotlib.pyplot as plt"
   ]
  },
  {
   "cell_type": "code",
   "execution_count": 4,
   "metadata": {},
   "outputs": [],
   "source": [
    "df = dff[dff['ID']==\"Pharo\"]\n"
   ]
  },
  {
   "cell_type": "code",
   "execution_count": null,
   "metadata": {},
   "outputs": [],
   "source": [
    "len(df['DEPT'])"
   ]
  },
  {
   "cell_type": "code",
   "execution_count": null,
   "metadata": {},
   "outputs": [],
   "source": []
  },
  {
   "cell_type": "code",
   "execution_count": null,
   "metadata": {},
   "outputs": [],
   "source": [
    "df.head()\n"
   ]
  },
  {
   "cell_type": "code",
   "execution_count": 5,
   "metadata": {},
   "outputs": [],
   "source": [
    "from bokeh.plotting import figure, output_file, show\n",
    "import bokeh.plotting as bk\n",
    "from bokeh.layouts import gridplot\n",
    "from bokeh.plotting import figure, show, output_file\n",
    "from bokeh.models import Range1d\n",
    "from bokeh.io import show\n",
    "from bokeh.models import LogColorMapper\n",
    "from bokeh.palettes import Viridis6 as palette\n",
    "from bokeh.plotting import figure\n",
    "from bokeh.layouts import row\n"
   ]
  },
  {
   "cell_type": "code",
   "execution_count": null,
   "metadata": {},
   "outputs": [],
   "source": []
  },
  {
   "cell_type": "code",
   "execution_count": null,
   "metadata": {},
   "outputs": [],
   "source": []
  },
  {
   "cell_type": "code",
   "execution_count": 6,
   "metadata": {},
   "outputs": [],
   "source": [
    "#good plotting of logs\n",
    "x = df['GR']\n",
    "y = df['DEPT']\n",
    "\n",
    "\n",
    "# output to static HTML file\n",
    "output_file(\"lines3gr.html\")\n",
    "\n",
    "# create a new plot with a title and axis labels\n",
    "p = figure(title=\"gamma ray\", x_axis_label='GR', y_axis_label='depth(m)', y_range=(y.max(),y.min()), tools=\"pan, box_zoom,ywheel_zoom,hover,reset\", tooltips=[(\"GR\", \"@x\"), (\"depth\", \"@y\")], plot_width=300, plot_height = 800)\n",
    "\n",
    "\n",
    "# add a line renderer with legend and line thickness\n",
    "p.line(x, y, legend=\"GR\", line_width=0.5, color='green')\n",
    "\n",
    "#new plot\n",
    "x2 = df['RHOB']\n",
    "p2 = figure(title=\"density\", x_axis_label='density', y_axis_label='depth (m)', y_range=p.y_range, tools=\"pan,box_zoom,ywheel_zoom,hover,reset\", tooltips=[(\"RHOB\", \"@x\"), (\"depth\", \"@y\")], plot_width=300, plot_height = 800)\n",
    "\n",
    "# add a line renderer with legend and line thickness\n",
    "p2.line(x2, y, legend=\"RHOB\", line_width=0.5, color='blue')\n",
    "\n",
    "\n",
    "s = gridplot([[p,p2]])\n",
    "\n",
    "# show the results\n",
    "# show(s)"
   ]
  },
  {
   "cell_type": "code",
   "execution_count": 7,
   "metadata": {},
   "outputs": [],
   "source": [
    "import numpy as np"
   ]
  },
  {
   "cell_type": "code",
   "execution_count": null,
   "metadata": {},
   "outputs": [],
   "source": []
  },
  {
   "cell_type": "code",
   "execution_count": null,
   "metadata": {},
   "outputs": [],
   "source": []
  },
  {
   "cell_type": "code",
   "execution_count": null,
   "metadata": {},
   "outputs": [],
   "source": []
  },
  {
   "cell_type": "markdown",
   "metadata": {},
   "source": [
    "len(values)"
   ]
  },
  {
   "cell_type": "code",
   "execution_count": 8,
   "metadata": {},
   "outputs": [],
   "source": [
    "a = np.random.randint(1,9,len(df['DEPT']))"
   ]
  },
  {
   "cell_type": "code",
   "execution_count": null,
   "metadata": {},
   "outputs": [],
   "source": [
    "len(a)"
   ]
  },
  {
   "cell_type": "code",
   "execution_count": 9,
   "metadata": {},
   "outputs": [
    {
     "data": {
      "text/plain": [
       "20.116699200000767"
      ]
     },
     "execution_count": 9,
     "metadata": {},
     "output_type": "execute_result"
    }
   ],
   "source": [
    "d=np.array(df['DEPT'])\n",
    "dd = list(d)\n",
    "dd[132]-dd[0]"
   ]
  },
  {
   "cell_type": "code",
   "execution_count": 16,
   "metadata": {},
   "outputs": [],
   "source": [
    "import numpy as np\n",
    "from bokeh.models import ColumnDataSource, Plot, LinearAxis, Grid\n",
    "from bokeh.models.glyphs import Patches\n",
    "from bokeh.io import curdoc, show\n",
    "from collections import Counter\n",
    "from scipy import stats\n",
    "\n",
    "#input data\n",
    "b=list(a[0:-1])\n",
    "values = b\n",
    "d=np.array(df['DEPT'])\n",
    "dd = list(d)\n",
    "depths = dd\n",
    "ddd = []\n",
    "c=[]\n",
    "\n",
    "\n",
    "#averaging\n",
    "sam = 67\n",
    "\n",
    "for i in range(round(len(a)/sam)):\n",
    "    bb = b[i*sam:(i*sam+sam)]\n",
    "    c.append(list(stats.mode(bb)[0])[0])\n",
    "    ddd.append(dd[i*sam])\n",
    "\n",
    "d2 = [round(d,2) for d in ddd]\n",
    "\n"
   ]
  },
  {
   "cell_type": "code",
   "execution_count": 17,
   "metadata": {},
   "outputs": [
    {
     "data": {
      "text/plain": [
       "116"
      ]
     },
     "execution_count": 17,
     "metadata": {},
     "output_type": "execute_result"
    }
   ],
   "source": [
    "len(c)"
   ]
  },
  {
   "cell_type": "code",
   "execution_count": 18,
   "metadata": {},
   "outputs": [
    {
     "data": {
      "text/html": [
       "<div style=\"display: table;\"><div style=\"display: table-row;\"><div style=\"display: table-cell;\"><b title=\"bokeh.models.renderers.GlyphRenderer\">GlyphRenderer</b>(</div><div style=\"display: table-cell;\">id&nbsp;=&nbsp;'1184', <span id=\"1187\" style=\"cursor: pointer;\">&hellip;)</span></div></div><div class=\"1186\" style=\"display: none;\"><div style=\"display: table-cell;\"></div><div style=\"display: table-cell;\">data_source&nbsp;=&nbsp;ColumnDataSource(id='1124', ...),</div></div><div class=\"1186\" style=\"display: none;\"><div style=\"display: table-cell;\"></div><div style=\"display: table-cell;\">glyph&nbsp;=&nbsp;Patches(id='1169', ...),</div></div><div class=\"1186\" style=\"display: none;\"><div style=\"display: table-cell;\"></div><div style=\"display: table-cell;\">hover_glyph&nbsp;=&nbsp;None,</div></div><div class=\"1186\" style=\"display: none;\"><div style=\"display: table-cell;\"></div><div style=\"display: table-cell;\">js_event_callbacks&nbsp;=&nbsp;{},</div></div><div class=\"1186\" style=\"display: none;\"><div style=\"display: table-cell;\"></div><div style=\"display: table-cell;\">js_property_callbacks&nbsp;=&nbsp;{},</div></div><div class=\"1186\" style=\"display: none;\"><div style=\"display: table-cell;\"></div><div style=\"display: table-cell;\">level&nbsp;=&nbsp;'glyph',</div></div><div class=\"1186\" style=\"display: none;\"><div style=\"display: table-cell;\"></div><div style=\"display: table-cell;\">muted&nbsp;=&nbsp;False,</div></div><div class=\"1186\" style=\"display: none;\"><div style=\"display: table-cell;\"></div><div style=\"display: table-cell;\">muted_glyph&nbsp;=&nbsp;None,</div></div><div class=\"1186\" style=\"display: none;\"><div style=\"display: table-cell;\"></div><div style=\"display: table-cell;\">name&nbsp;=&nbsp;None,</div></div><div class=\"1186\" style=\"display: none;\"><div style=\"display: table-cell;\"></div><div style=\"display: table-cell;\">nonselection_glyph&nbsp;=&nbsp;'auto',</div></div><div class=\"1186\" style=\"display: none;\"><div style=\"display: table-cell;\"></div><div style=\"display: table-cell;\">selection_glyph&nbsp;=&nbsp;'auto',</div></div><div class=\"1186\" style=\"display: none;\"><div style=\"display: table-cell;\"></div><div style=\"display: table-cell;\">subscribed_events&nbsp;=&nbsp;[],</div></div><div class=\"1186\" style=\"display: none;\"><div style=\"display: table-cell;\"></div><div style=\"display: table-cell;\">tags&nbsp;=&nbsp;[],</div></div><div class=\"1186\" style=\"display: none;\"><div style=\"display: table-cell;\"></div><div style=\"display: table-cell;\">view&nbsp;=&nbsp;CDSView(id='1185', ...),</div></div><div class=\"1186\" style=\"display: none;\"><div style=\"display: table-cell;\"></div><div style=\"display: table-cell;\">visible&nbsp;=&nbsp;True,</div></div><div class=\"1186\" style=\"display: none;\"><div style=\"display: table-cell;\"></div><div style=\"display: table-cell;\">x_range_name&nbsp;=&nbsp;'default',</div></div><div class=\"1186\" style=\"display: none;\"><div style=\"display: table-cell;\"></div><div style=\"display: table-cell;\">y_range_name&nbsp;=&nbsp;'default')</div></div></div>\n",
       "<script>\n",
       "(function() {\n",
       "  var expanded = false;\n",
       "  var ellipsis = document.getElementById(\"1187\");\n",
       "  ellipsis.addEventListener(\"click\", function() {\n",
       "    var rows = document.getElementsByClassName(\"1186\");\n",
       "    for (var i = 0; i < rows.length; i++) {\n",
       "      var el = rows[i];\n",
       "      el.style.display = expanded ? \"none\" : \"table-row\";\n",
       "    }\n",
       "    ellipsis.innerHTML = expanded ? \"&hellip;)\" : \"&lsaquo;&lsaquo;&lsaquo;\";\n",
       "    expanded = !expanded;\n",
       "  });\n",
       "})();\n",
       "</script>\n"
      ],
      "text/plain": [
       "GlyphRenderer(id='1184', ...)"
      ]
     },
     "execution_count": 18,
     "metadata": {},
     "output_type": "execute_result"
    }
   ],
   "source": [
    "values = c[0:-1]\n",
    "depths= d2\n",
    "\n",
    "#lithologies\n",
    "lithologies = [\"sand\",\"shale\",\"siltstone\", \"Interbededd sand-shale\", \"limestone\", \"mudstone\", \"volcanic\",\"dolomite\"]\n",
    "thicks = [abs(depths[i+1]-depths[i]) for i in range((len(values)))]\n",
    "\n",
    "#initiation of variables\n",
    "y1 = []\n",
    "y2= []\n",
    "y3 = []\n",
    "y4=[]\n",
    "y5 = []\n",
    "y6=[]\n",
    "y7=[]\n",
    "y8=[]\n",
    "\n",
    "x1 = []\n",
    "x2 = []\n",
    "x3=[]\n",
    "x4=[]\n",
    "x5=[]\n",
    "x6=[]\n",
    "x7=[]\n",
    "x8=[]\n",
    "\n",
    "th = []\n",
    "th2 =[]\n",
    "th3=[]\n",
    "th4=[]\n",
    "th5=[]\n",
    "th6=[]\n",
    "th7=[]\n",
    "th8=[]\n",
    "\n",
    "lit = []\n",
    "lit2 =[]\n",
    "lit3 = []\n",
    "lit4=[]\n",
    "lit5=[]\n",
    "lit6=[]\n",
    "lit7=[]\n",
    "lit8=[]\n",
    "\n",
    "\n",
    "#classes\n",
    "for i in range((len(values))):\n",
    "    if values[i] == 1:\n",
    "        yy = depths[i]\n",
    "        xx = 0*i\n",
    "        ttt = thicks[i]\n",
    "        th.append(ttt)\n",
    "        x1.append(xx)\n",
    "        y1.append(yy)\n",
    "        l = lithologies[0]\n",
    "        lit.append(l)\n",
    "        \n",
    "for i in range((len(values))):\n",
    "    if values[i] == 2:\n",
    "        yy = depths[i]\n",
    "        xx = 0*i\n",
    "        ttt = thicks[i]\n",
    "        th2.append(ttt)\n",
    "        x2.append(xx)\n",
    "        y2.append(yy)\n",
    "        l = lithologies[1]\n",
    "        lit2.append(l)\n",
    "        \n",
    "for i in range((len(values))):\n",
    "    if values[i] == 3:\n",
    "        yy = depths[i]\n",
    "        xx = 0*i\n",
    "        x3.append(xx)\n",
    "        y3.append(yy)\n",
    "        ttt = thicks[i]\n",
    "        th3.append(ttt)\n",
    "        l = lithologies[2]\n",
    "        lit3.append(l)\n",
    "        \n",
    "for i in range((len(values))):\n",
    "    if values[i] == 4:\n",
    "        yy = depths[i]\n",
    "        xx = 0*i\n",
    "        x4.append(xx)\n",
    "        y4.append(yy)\n",
    "        ttt = thicks[i]\n",
    "        th4.append(ttt)\n",
    "        l = lithologies[3]\n",
    "        lit4.append(l)\n",
    "\n",
    "for i in range((len(values))):\n",
    "    if values[i] == 5:\n",
    "        yy = depths[i]\n",
    "        xx = 0*i\n",
    "        x5.append(xx)\n",
    "        y5.append(yy)\n",
    "        ttt = thicks[i]\n",
    "        th5.append(ttt)\n",
    "        l = lithologies[4]\n",
    "        lit5.append(l)   \n",
    "        \n",
    "for i in range((len(values))):\n",
    "    if values[i] == 6:\n",
    "        yy = depths[i]\n",
    "        xx = 0*i\n",
    "        x6.append(xx)\n",
    "        y6.append(yy)\n",
    "        ttt = thicks[i]\n",
    "        th6.append(ttt)\n",
    "        l = lithologies[5]\n",
    "        lit6.append(l)  \n",
    "        \n",
    "for i in range((len(values))):\n",
    "    if values[i] == 7:\n",
    "        yy = depths[i]\n",
    "        xx = 0*i\n",
    "        x7.append(xx)\n",
    "        y7.append(yy)\n",
    "        ttt = thicks[i]\n",
    "        th7.append(ttt)\n",
    "        l = lithologies[6]\n",
    "        lit7.append(l) \n",
    "        \n",
    "for i in range((len(values))):\n",
    "    if values[i] == 8:\n",
    "        yy = depths[i]\n",
    "        xx = 0*i\n",
    "        x8.append(xx)\n",
    "        y8.append(yy)\n",
    "        ttt = thicks[i]\n",
    "        th8.append(ttt)\n",
    "        l = lithologies[7]\n",
    "        lit8.append(l) \n",
    "         \n",
    "\n",
    "# shape of the rectangle\n",
    "xpts = np.array([1, -1, -1, 1])\n",
    "ypts = np.array([0,0,1,1])\n",
    "\n",
    "\n",
    "# coordinates of all rectangles\n",
    "source3 = ColumnDataSource(dict(\n",
    "        xs=[xpts+xx for i, xx in enumerate(x3)],\n",
    "        ys=[ypts*m+yy for m, yy in zip(th3,y3)],\n",
    "        lith=[1*ll for ll in lit3]\n",
    "    )\n",
    ")\n",
    "\n",
    "source1 = ColumnDataSource(dict(\n",
    "        xs=[xpts+xx for i, xx in enumerate(x1)],\n",
    "        ys=[ypts*m+yy for m, yy in zip(th,y1)],\n",
    "        lith=[1*ll for ll in lit]\n",
    "    )\n",
    ")\n",
    "\n",
    "source2 = ColumnDataSource(dict(\n",
    "        xs=[xpts+xx for i, xx in enumerate(x2)],\n",
    "        ys=[ypts*m+yy for m, yy in zip(th2,y2)],\n",
    "        lith=[1*ll for ll in lit2]\n",
    "    )\n",
    ")\n",
    "source4 = ColumnDataSource(dict(\n",
    "        xs=[xpts+xx for i, xx in enumerate(x4)],\n",
    "        ys=[ypts*m+yy for m, yy in zip(th4,y4)],\n",
    "        lith=[1*ll for ll in lit4]\n",
    "    )\n",
    ")\n",
    "source5 = ColumnDataSource(dict(\n",
    "        xs=[xpts+xx for i, xx in enumerate(x5)],\n",
    "        ys=[ypts*m+yy for m, yy in zip(th5,y5)],\n",
    "        lith=[1*ll for ll in lit5]\n",
    "    )\n",
    ")\n",
    "\n",
    "source6 = ColumnDataSource(dict(\n",
    "        xs=[xpts+xx for i, xx in enumerate(x6)],\n",
    "        ys=[ypts*m+yy for m, yy in zip(th6,y6)],\n",
    "        lith=[1*ll for ll in lit6]\n",
    "    )\n",
    ")\n",
    "\n",
    "source7 = ColumnDataSource(dict(\n",
    "        xs=[xpts+xx for i, xx in enumerate(x7)],\n",
    "        ys=[ypts*m+yy for m, yy in zip(th7,y7)],\n",
    "        lith=[1*ll for ll in lit7]\n",
    "    )\n",
    ")\n",
    "\n",
    "source8 = ColumnDataSource(dict(\n",
    "        xs=[xpts+xx for i, xx in enumerate(x8)],\n",
    "        ys=[ypts*m+yy for m, yy in zip(th8,y8)],\n",
    "        lith=[1*ll for ll in lit8]\n",
    "    )\n",
    ")\n",
    "\n",
    "\n",
    "# parameters of the figure\n",
    "plot = figure(\n",
    "    title=\"Lithologies\", y_axis_label='depth (m)', x_range=(-1,1),\n",
    "    plot_width=300, plot_height=800, y_range=p.y_range, \n",
    "    h_symmetry=False, v_symmetry=False, min_border=0, tools=\"pan,ywheel_zoom,lasso_select,box_zoom,hover,reset\", \n",
    "    tooltips=[(\"Lithology\", \"@lith\")])\n",
    "\n",
    "plot.xaxis.visible = False\n",
    "\n",
    "glyph = Patches(xs=\"xs\", ys=\"ys\", fill_color=\"#F4D03F\", line_color='blue', line_alpha=0)\n",
    "glyph2 = Patches(xs=\"xs\", ys=\"ys\", fill_color=\"#6E2C00\", line_color='blue', line_alpha=0)\n",
    "glyph3 = Patches(xs=\"xs\", ys=\"ys\", fill_color=\"#DC7633\", line_color='blue', line_alpha=0)\n",
    "glyph4 = Patches(xs=\"xs\", ys=\"ys\", fill_color=\"#F5B041\", line_color='blue', line_alpha=0)\n",
    "glyph5 = Patches(xs=\"xs\", ys=\"ys\", fill_color=\"#AED6F1\", line_color='blue', line_alpha=0)\n",
    "glyph6 = Patches(xs=\"xs\", ys=\"ys\", fill_color=\"#1B4F72\", line_color='blue', line_alpha=0)\n",
    "glyph7 = Patches(xs=\"xs\", ys=\"ys\", fill_color=\"#196F3D\", line_color='blue', line_alpha=0)\n",
    "glyph8 = Patches(xs=\"xs\", ys=\"ys\", fill_color=\"#A569BD\", line_color='blue', line_alpha=0)\n",
    "#glyph9 = Patches(xs=\"xs\", ys=\"ys\", fill_color=\"#C41286\", line_color='blue', line_alpha=0)\n",
    "plot.add_glyph(source3, glyph3)\n",
    "plot.add_glyph(source1, glyph)\n",
    "plot.add_glyph(source2, glyph2)\n",
    "plot.add_glyph(source4, glyph4)\n",
    "plot.add_glyph(source5, glyph5)\n",
    "plot.add_glyph(source6, glyph6)\n",
    "plot.add_glyph(source7, glyph7)\n",
    "plot.add_glyph(source8, glyph8)\n",
    "#plot.add_glyph(source9, glyph9)\n",
    "\n",
    "\n",
    "#plot.line([-1,1],[0,0],line_width=2.0,color='black')\n",
    "\n",
    "\n",
    "#plot.add_layout(Grid(dimension=0, ticker=xaxis.ticker))\n",
    "#plot.add_layout(Grid(dimension=1, ticker=yaxis.ticker))\n",
    "\n",
    "# curdoc().add_root(plot)\n",
    "\n",
    "\n",
    "#show(plot)"
   ]
  },
  {
   "cell_type": "code",
   "execution_count": null,
   "metadata": {},
   "outputs": [],
   "source": []
  },
  {
   "cell_type": "code",
   "execution_count": null,
   "metadata": {},
   "outputs": [],
   "source": []
  },
  {
   "cell_type": "code",
   "execution_count": 19,
   "metadata": {},
   "outputs": [],
   "source": [
    "sss = gridplot([[p,p2,plot]])\n",
    "show(sss)"
   ]
  },
  {
   "cell_type": "code",
   "execution_count": null,
   "metadata": {},
   "outputs": [],
   "source": []
  },
  {
   "cell_type": "code",
   "execution_count": null,
   "metadata": {},
   "outputs": [],
   "source": []
  }
 ],
 "metadata": {
  "kernelspec": {
   "display_name": "geocomp",
   "language": "python",
   "name": "geocomp"
  },
  "language_info": {
   "codemirror_mode": {
    "name": "ipython",
    "version": 3
   },
   "file_extension": ".py",
   "mimetype": "text/x-python",
   "name": "python",
   "nbconvert_exporter": "python",
   "pygments_lexer": "ipython3",
   "version": "3.7.1"
  }
 },
 "nbformat": 4,
 "nbformat_minor": 2
}
